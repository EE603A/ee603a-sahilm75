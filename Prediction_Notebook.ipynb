{
  "nbformat": 4,
  "nbformat_minor": 0,
  "metadata": {
    "colab": {
      "provenance": []
    },
    "kernelspec": {
      "name": "python3",
      "display_name": "Python 3"
    },
    "language_info": {
      "name": "python"
    }
  },
  "cells": [
    {
      "cell_type": "code",
      "execution_count": 1,
      "metadata": {
        "colab": {
          "base_uri": "https://localhost:8080/"
        },
        "id": "xwIIr7g0AdeI",
        "outputId": "2ec1e760-5b6f-4d8a-ed67-ac4c3960b253"
      },
      "outputs": [
        {
          "output_type": "stream",
          "name": "stdout",
          "text": [
            "Drive already mounted at /content/drive; to attempt to forcibly remount, call drive.mount(\"/content/drive\", force_remount=True).\n"
          ]
        }
      ],
      "source": [
        "from google.colab import drive\n",
        "drive.mount('/content/drive')"
      ]
    },
    {
      "cell_type": "code",
      "source": [
        "%cd /content/drive/MyDrive/"
      ],
      "metadata": {
        "colab": {
          "base_uri": "https://localhost:8080/"
        },
        "id": "H26wgOYIAk3F",
        "outputId": "f09626a5-b07a-4190-ccc0-cd5cb17c0d9a"
      },
      "execution_count": 2,
      "outputs": [
        {
          "output_type": "stream",
          "name": "stdout",
          "text": [
            "/content/drive/MyDrive\n"
          ]
        }
      ]
    },
    {
      "cell_type": "code",
      "source": [
        "import matplotlib\n",
        "import matplotlib.pyplot as plt\n",
        "%matplotlib inline\n",
        "\n",
        "import pathlib\n",
        "from glob import glob\n",
        "\n",
        "from scipy.io import loadmat, savemat\n",
        "import os\n",
        "import math\n",
        "import numpy as np\n",
        "import pandas as pd\n",
        "import numpy as np\n",
        "import librosa\n",
        "\n",
        "import tensorflow as tf\n",
        "from tensorflow import keras\n",
        "from tensorflow.keras import layers\n",
        "from sklearn.metrics import accuracy_score, f1_score, confusion_matrix\n",
        "\n",
        "print(tf.__version__)"
      ],
      "metadata": {
        "colab": {
          "base_uri": "https://localhost:8080/"
        },
        "id": "a-5rue_JAmw3",
        "outputId": "b301af5b-bb53-49ee-fccf-728e197f605c"
      },
      "execution_count": 3,
      "outputs": [
        {
          "output_type": "stream",
          "name": "stdout",
          "text": [
            "2.8.2\n"
          ]
        }
      ]
    },
    {
      "cell_type": "code",
      "source": [
        "# Loading csv file\n",
        "location = \"Audio_Classification-MLSP/\"\n",
        "annot = pd.read_csv(location + \"annotations.csv\")\n",
        "mapping = {\"Bark\": 0, \"Meow\": 1, \"Siren\": 2, \"Shatter\": 3, \"Knock\": 4, \"Crying_and_sobbing\": 5, \"Microwave_oven\": 6, \"Vehicle_horn_and_car_horn_and_honking\": 7, \"Doorbell\": 8, \"Walk_and_footsteps\": 9}"
      ],
      "metadata": {
        "id": "_hHZ-QkyAtxN"
      },
      "execution_count": 4,
      "outputs": []
    },
    {
      "cell_type": "code",
      "source": [
        "# Loading X and y from archives\n",
        "l = np.load(location + \"Dataset.npz\")\n",
        "X = l['X']\n",
        "y = l['y']\n",
        "signal_len = l['signal_len']"
      ],
      "metadata": {
        "id": "Mer4ufHuAyYE"
      },
      "execution_count": 5,
      "outputs": []
    },
    {
      "cell_type": "code",
      "source": [
        "# Loading test Dataset\n",
        "test_loc = \"Audio_Classification-MLSP-test/\"\n",
        "files = glob(test_loc + \"*\")"
      ],
      "metadata": {
        "id": "6q_FAHEBBGql"
      },
      "execution_count": 21,
      "outputs": []
    },
    {
      "cell_type": "code",
      "source": [
        "file_name = []\n",
        "test_data = []\n",
        "for f in files:\n",
        "  test_data.append(np.load(f)[0])\n",
        "  file_name.append(f[len(test_loc):])"
      ],
      "metadata": {
        "id": "4j7YvbwWFDOt"
      },
      "execution_count": 22,
      "outputs": []
    },
    {
      "cell_type": "code",
      "source": [
        "cnn1 = tf.keras.models.load_model('cnn1')"
      ],
      "metadata": {
        "id": "Hc4g_uYbHIgx"
      },
      "execution_count": 24,
      "outputs": []
    },
    {
      "cell_type": "code",
      "source": [
        "test_data[0].shape"
      ],
      "metadata": {
        "colab": {
          "base_uri": "https://localhost:8080/"
        },
        "id": "7LqDuhhhNWF6",
        "outputId": "d4dff1ad-571b-47e1-e05b-01003ae1c261"
      },
      "execution_count": 32,
      "outputs": [
        {
          "output_type": "execute_result",
          "data": {
            "text/plain": [
              "(128, 188)"
            ]
          },
          "metadata": {},
          "execution_count": 32
        }
      ]
    },
    {
      "cell_type": "code",
      "source": [
        "X = np.zeros([201, 128, 2700])\n",
        "signal_len = []\n",
        "for i in range(len(test_data)):\n",
        "  signal_len.append(test_data[i].shape[-1])\n",
        "  X[i, :, :test_data[i].shape[-1]] = test_data[i]"
      ],
      "metadata": {
        "id": "IDADf4eiL0YI"
      },
      "execution_count": 47,
      "outputs": []
    },
    {
      "cell_type": "code",
      "source": [
        "def DuplicatePadding(X, signal_length, sample_length):\n",
        "  # Duplicate pad samples with signal_length less than sample_length\n",
        "  for i in range(len(X)):\n",
        "    dp = signal_length[i]\n",
        "    while dp<sample_length:\n",
        "      X[i, :, dp:dp+signal_length[i]] = X[i, :, :signal_length[i]]\n",
        "      signal_length[i] = sample_length\n",
        "      dp = dp + signal_length[i]\n",
        "  return X, signal_length"
      ],
      "metadata": {
        "id": "E7VuyF0yMUwj"
      },
      "execution_count": 48,
      "outputs": []
    },
    {
      "cell_type": "code",
      "source": [
        "def SlidingWindow(X, y, signal_length, sample_length, hop_size):\n",
        "  ## Slice long samples into multiple samples\n",
        "  data = []\n",
        "  labels = []\n",
        "  for i in range(len(y)):\n",
        "    if signal_length[i] == sample_length:\n",
        "      data.append(X[i, :, :signal_length[i]])\n",
        "      labels.append(y[i])\n",
        "    else:\n",
        "      p = 0\n",
        "      while p + sample_length<=signal_length[i]:\n",
        "        data.append(X[i, :, p:p + sample_length])\n",
        "        labels.append(y[i])\n",
        "        p = p + hop_size\n",
        "      data.append(np.concatenate([X[i, :, p:signal_length[i]], X[i, :, :sample_length - (signal_length[i]-p)]], axis = -1))\n",
        "      labels.append(y[i])\n",
        "      \n",
        "  data = np.array(data)\n",
        "  labels = np.array(labels)\n",
        "  return data, labels"
      ],
      "metadata": {
        "id": "gaHFhqDpN7KO"
      },
      "execution_count": 49,
      "outputs": []
    },
    {
      "cell_type": "code",
      "source": [
        "sample_len = 300\n",
        "hop_size = 150"
      ],
      "metadata": {
        "id": "aZlNhesmOGm9"
      },
      "execution_count": 50,
      "outputs": []
    },
    {
      "cell_type": "code",
      "source": [
        "X_test, signal_len_test = DuplicatePadding(X, signal_len, sample_len)"
      ],
      "metadata": {
        "id": "fY75CE1lN836"
      },
      "execution_count": 51,
      "outputs": []
    },
    {
      "cell_type": "code",
      "source": [
        "X_test_list = []\n",
        "y_test = y[:201] # Random labels\n",
        "for x, y in zip(X_test, y_test):\n",
        "  x, _ = SlidingWindow(np.expand_dims(x, axis = 0), list(y), signal_len_test, sample_len, hop_size)\n",
        "  del _\n",
        "  X_test_list.append(x)"
      ],
      "metadata": {
        "id": "T1rW0HNeOAu5"
      },
      "execution_count": 53,
      "outputs": []
    },
    {
      "cell_type": "code",
      "source": [
        "pred_list = []\n",
        "for x in X_test_list:\n",
        "  pred = cnn1.predict(x)\n",
        "  pred_list.append(np.mean(pred, axis = 0))\n",
        "predicted = np.array(pred_list)\n",
        "y_pred = np.argmax(predicted, axis = 1)\n",
        "# y_pred = tf.keras.utils.to_categorical(y_pred, num_classes)\n",
        "# train_acuracy = history.history['acc'][-1]\n",
        "# test_accuracy = accuracy_score(y_test, y_pred)\n",
        "# f1score = f1_score(y_test, y_pred, average = 'weighted')\n",
        "# cm = confusion_matrix(np.argmax(y_test, axis = 1), np.argmax(y_pred, axis = 1))\n",
        "# print(train_acuracy)\n",
        "# print(test_accuracy)\n",
        "# print(f1score)\n",
        "# print(cm)"
      ],
      "metadata": {
        "id": "NM6L1qJMOdan"
      },
      "execution_count": 54,
      "outputs": []
    },
    {
      "cell_type": "code",
      "source": [
        "y_pred[70]"
      ],
      "metadata": {
        "colab": {
          "base_uri": "https://localhost:8080/"
        },
        "id": "cDAShhbnPi23",
        "outputId": "95477c59-0ec3-47a2-cf27-7ec9c70bd80f"
      },
      "execution_count": 59,
      "outputs": [
        {
          "output_type": "execute_result",
          "data": {
            "text/plain": [
              "2"
            ]
          },
          "metadata": {},
          "execution_count": 59
        }
      ]
    },
    {
      "cell_type": "code",
      "source": [
        "pred_class = []\n",
        "for p in y_pred:\n",
        "  c = list(mapping.keys())[list(mapping.values()).index(p)]\n",
        "  pred_class.append(c)"
      ],
      "metadata": {
        "id": "nfSuUuYrQTqz"
      },
      "execution_count": 60,
      "outputs": []
    },
    {
      "cell_type": "code",
      "source": [
        "c"
      ],
      "metadata": {
        "colab": {
          "base_uri": "https://localhost:8080/",
          "height": 36
        },
        "id": "kMHuZiOwQn_W",
        "outputId": "a9e42b0a-3502-4a64-80a0-f514a0c5d921"
      },
      "execution_count": 61,
      "outputs": [
        {
          "output_type": "execute_result",
          "data": {
            "text/plain": [
              "'Crying_and_sobbing'"
            ],
            "application/vnd.google.colaboratory.intrinsic+json": {
              "type": "string"
            }
          },
          "metadata": {},
          "execution_count": 61
        }
      ]
    },
    {
      "cell_type": "code",
      "source": [
        "df = pd.DataFrame({\"fileid\": file_name, \"prediction\": c})"
      ],
      "metadata": {
        "id": "vtpuYoBPPpdn"
      },
      "execution_count": 62,
      "outputs": []
    },
    {
      "cell_type": "code",
      "source": [
        "df"
      ],
      "metadata": {
        "colab": {
          "base_uri": "https://localhost:8080/",
          "height": 424
        },
        "id": "6aAUxlB5Qr7y",
        "outputId": "94c3aa24-4976-4217-9a20-df3a7a2ad9bc"
      },
      "execution_count": 63,
      "outputs": [
        {
          "output_type": "execute_result",
          "data": {
            "text/plain": [
              "                   fileid          prediction\n",
              "0    MLSP_test1457299.npy  Crying_and_sobbing\n",
              "1     MLSP_test208923.npy  Crying_and_sobbing\n",
              "2    MLSP_test1451403.npy  Crying_and_sobbing\n",
              "3    MLSP_test1443477.npy  Crying_and_sobbing\n",
              "4    MLSP_test1379148.npy  Crying_and_sobbing\n",
              "..                    ...                 ...\n",
              "196    MLSP_test80263.npy  Crying_and_sobbing\n",
              "197     MLSP_test7835.npy  Crying_and_sobbing\n",
              "198     MLSP_test7872.npy  Crying_and_sobbing\n",
              "199    MLSP_test77893.npy  Crying_and_sobbing\n",
              "200   MLSP_test774107.npy  Crying_and_sobbing\n",
              "\n",
              "[201 rows x 2 columns]"
            ],
            "text/html": [
              "\n",
              "  <div id=\"df-d676cf3c-54b5-4a2d-81bb-b09b9afdf0be\">\n",
              "    <div class=\"colab-df-container\">\n",
              "      <div>\n",
              "<style scoped>\n",
              "    .dataframe tbody tr th:only-of-type {\n",
              "        vertical-align: middle;\n",
              "    }\n",
              "\n",
              "    .dataframe tbody tr th {\n",
              "        vertical-align: top;\n",
              "    }\n",
              "\n",
              "    .dataframe thead th {\n",
              "        text-align: right;\n",
              "    }\n",
              "</style>\n",
              "<table border=\"1\" class=\"dataframe\">\n",
              "  <thead>\n",
              "    <tr style=\"text-align: right;\">\n",
              "      <th></th>\n",
              "      <th>fileid</th>\n",
              "      <th>prediction</th>\n",
              "    </tr>\n",
              "  </thead>\n",
              "  <tbody>\n",
              "    <tr>\n",
              "      <th>0</th>\n",
              "      <td>MLSP_test1457299.npy</td>\n",
              "      <td>Crying_and_sobbing</td>\n",
              "    </tr>\n",
              "    <tr>\n",
              "      <th>1</th>\n",
              "      <td>MLSP_test208923.npy</td>\n",
              "      <td>Crying_and_sobbing</td>\n",
              "    </tr>\n",
              "    <tr>\n",
              "      <th>2</th>\n",
              "      <td>MLSP_test1451403.npy</td>\n",
              "      <td>Crying_and_sobbing</td>\n",
              "    </tr>\n",
              "    <tr>\n",
              "      <th>3</th>\n",
              "      <td>MLSP_test1443477.npy</td>\n",
              "      <td>Crying_and_sobbing</td>\n",
              "    </tr>\n",
              "    <tr>\n",
              "      <th>4</th>\n",
              "      <td>MLSP_test1379148.npy</td>\n",
              "      <td>Crying_and_sobbing</td>\n",
              "    </tr>\n",
              "    <tr>\n",
              "      <th>...</th>\n",
              "      <td>...</td>\n",
              "      <td>...</td>\n",
              "    </tr>\n",
              "    <tr>\n",
              "      <th>196</th>\n",
              "      <td>MLSP_test80263.npy</td>\n",
              "      <td>Crying_and_sobbing</td>\n",
              "    </tr>\n",
              "    <tr>\n",
              "      <th>197</th>\n",
              "      <td>MLSP_test7835.npy</td>\n",
              "      <td>Crying_and_sobbing</td>\n",
              "    </tr>\n",
              "    <tr>\n",
              "      <th>198</th>\n",
              "      <td>MLSP_test7872.npy</td>\n",
              "      <td>Crying_and_sobbing</td>\n",
              "    </tr>\n",
              "    <tr>\n",
              "      <th>199</th>\n",
              "      <td>MLSP_test77893.npy</td>\n",
              "      <td>Crying_and_sobbing</td>\n",
              "    </tr>\n",
              "    <tr>\n",
              "      <th>200</th>\n",
              "      <td>MLSP_test774107.npy</td>\n",
              "      <td>Crying_and_sobbing</td>\n",
              "    </tr>\n",
              "  </tbody>\n",
              "</table>\n",
              "<p>201 rows × 2 columns</p>\n",
              "</div>\n",
              "      <button class=\"colab-df-convert\" onclick=\"convertToInteractive('df-d676cf3c-54b5-4a2d-81bb-b09b9afdf0be')\"\n",
              "              title=\"Convert this dataframe to an interactive table.\"\n",
              "              style=\"display:none;\">\n",
              "        \n",
              "  <svg xmlns=\"http://www.w3.org/2000/svg\" height=\"24px\"viewBox=\"0 0 24 24\"\n",
              "       width=\"24px\">\n",
              "    <path d=\"M0 0h24v24H0V0z\" fill=\"none\"/>\n",
              "    <path d=\"M18.56 5.44l.94 2.06.94-2.06 2.06-.94-2.06-.94-.94-2.06-.94 2.06-2.06.94zm-11 1L8.5 8.5l.94-2.06 2.06-.94-2.06-.94L8.5 2.5l-.94 2.06-2.06.94zm10 10l.94 2.06.94-2.06 2.06-.94-2.06-.94-.94-2.06-.94 2.06-2.06.94z\"/><path d=\"M17.41 7.96l-1.37-1.37c-.4-.4-.92-.59-1.43-.59-.52 0-1.04.2-1.43.59L10.3 9.45l-7.72 7.72c-.78.78-.78 2.05 0 2.83L4 21.41c.39.39.9.59 1.41.59.51 0 1.02-.2 1.41-.59l7.78-7.78 2.81-2.81c.8-.78.8-2.07 0-2.86zM5.41 20L4 18.59l7.72-7.72 1.47 1.35L5.41 20z\"/>\n",
              "  </svg>\n",
              "      </button>\n",
              "      \n",
              "  <style>\n",
              "    .colab-df-container {\n",
              "      display:flex;\n",
              "      flex-wrap:wrap;\n",
              "      gap: 12px;\n",
              "    }\n",
              "\n",
              "    .colab-df-convert {\n",
              "      background-color: #E8F0FE;\n",
              "      border: none;\n",
              "      border-radius: 50%;\n",
              "      cursor: pointer;\n",
              "      display: none;\n",
              "      fill: #1967D2;\n",
              "      height: 32px;\n",
              "      padding: 0 0 0 0;\n",
              "      width: 32px;\n",
              "    }\n",
              "\n",
              "    .colab-df-convert:hover {\n",
              "      background-color: #E2EBFA;\n",
              "      box-shadow: 0px 1px 2px rgba(60, 64, 67, 0.3), 0px 1px 3px 1px rgba(60, 64, 67, 0.15);\n",
              "      fill: #174EA6;\n",
              "    }\n",
              "\n",
              "    [theme=dark] .colab-df-convert {\n",
              "      background-color: #3B4455;\n",
              "      fill: #D2E3FC;\n",
              "    }\n",
              "\n",
              "    [theme=dark] .colab-df-convert:hover {\n",
              "      background-color: #434B5C;\n",
              "      box-shadow: 0px 1px 3px 1px rgba(0, 0, 0, 0.15);\n",
              "      filter: drop-shadow(0px 1px 2px rgba(0, 0, 0, 0.3));\n",
              "      fill: #FFFFFF;\n",
              "    }\n",
              "  </style>\n",
              "\n",
              "      <script>\n",
              "        const buttonEl =\n",
              "          document.querySelector('#df-d676cf3c-54b5-4a2d-81bb-b09b9afdf0be button.colab-df-convert');\n",
              "        buttonEl.style.display =\n",
              "          google.colab.kernel.accessAllowed ? 'block' : 'none';\n",
              "\n",
              "        async function convertToInteractive(key) {\n",
              "          const element = document.querySelector('#df-d676cf3c-54b5-4a2d-81bb-b09b9afdf0be');\n",
              "          const dataTable =\n",
              "            await google.colab.kernel.invokeFunction('convertToInteractive',\n",
              "                                                     [key], {});\n",
              "          if (!dataTable) return;\n",
              "\n",
              "          const docLinkHtml = 'Like what you see? Visit the ' +\n",
              "            '<a target=\"_blank\" href=https://colab.research.google.com/notebooks/data_table.ipynb>data table notebook</a>'\n",
              "            + ' to learn more about interactive tables.';\n",
              "          element.innerHTML = '';\n",
              "          dataTable['output_type'] = 'display_data';\n",
              "          await google.colab.output.renderOutput(dataTable, element);\n",
              "          const docLink = document.createElement('div');\n",
              "          docLink.innerHTML = docLinkHtml;\n",
              "          element.appendChild(docLink);\n",
              "        }\n",
              "      </script>\n",
              "    </div>\n",
              "  </div>\n",
              "  "
            ]
          },
          "metadata": {},
          "execution_count": 63
        }
      ]
    },
    {
      "cell_type": "code",
      "source": [
        "df.to_csv('predictions.csv')"
      ],
      "metadata": {
        "id": "t7l4afW2QsT2"
      },
      "execution_count": 64,
      "outputs": []
    },
    {
      "cell_type": "code",
      "source": [],
      "metadata": {
        "id": "1SuJcTLJRXhE"
      },
      "execution_count": null,
      "outputs": []
    }
  ]
}