{
  "nbformat": 4,
  "nbformat_minor": 0,
  "metadata": {
    "colab": {
      "provenance": []
    },
    "kernelspec": {
      "name": "python3",
      "display_name": "Python 3"
    },
    "language_info": {
      "name": "python"
    },
    "accelerator": "GPU"
  },
  "cells": [
    {
      "cell_type": "code",
      "execution_count": 1,
      "metadata": {
        "colab": {
          "base_uri": "https://localhost:8080/"
        },
        "id": "Oye0Tk1geC0J",
        "outputId": "9d219d29-3e63-4c38-fa24-72ab5b3da16f"
      },
      "outputs": [
        {
          "output_type": "stream",
          "name": "stdout",
          "text": [
            "Drive already mounted at /content/drive; to attempt to forcibly remount, call drive.mount(\"/content/drive\", force_remount=True).\n"
          ]
        }
      ],
      "source": [
        "from google.colab import drive\n",
        "drive.mount('/content/drive')"
      ]
    },
    {
      "cell_type": "code",
      "source": [
        "%cd /content/drive/MyDrive/"
      ],
      "metadata": {
        "colab": {
          "base_uri": "https://localhost:8080/"
        },
        "id": "8LJoegD_eJLZ",
        "outputId": "cabcf9fa-e50e-4ecc-cb20-af296fbc9555"
      },
      "execution_count": 2,
      "outputs": [
        {
          "output_type": "stream",
          "name": "stdout",
          "text": [
            "/content/drive/MyDrive\n"
          ]
        }
      ]
    },
    {
      "cell_type": "code",
      "source": [
        "import matplotlib\n",
        "import matplotlib.pyplot as plt\n",
        "%matplotlib inline\n",
        "\n",
        "from scipy.io import loadmat, savemat\n",
        "import os\n",
        "import math\n",
        "import numpy as np\n",
        "import pandas as pd\n",
        "import numpy as np\n",
        "import librosa\n",
        "\n",
        "import tensorflow as tf\n",
        "from tensorflow import keras\n",
        "from tensorflow.keras import layers\n",
        "from sklearn.metrics import accuracy_score, f1_score, confusion_matrix\n",
        "\n",
        "print(tf.__version__)"
      ],
      "metadata": {
        "colab": {
          "base_uri": "https://localhost:8080/"
        },
        "id": "kYDsyDbpeLPa",
        "outputId": "f43b7d91-b66a-44ca-ecda-4e46d5046d67"
      },
      "execution_count": 3,
      "outputs": [
        {
          "output_type": "stream",
          "name": "stdout",
          "text": [
            "2.8.2\n"
          ]
        }
      ]
    },
    {
      "cell_type": "code",
      "source": [
        "# Loading csv file\n",
        "location = \"Audio_Classification-MLSP/\"\n",
        "annot = pd.read_csv(location + \"annotations.csv\")\n",
        "mapping = {\"Bark\": 0, \"Meow\": 1, \"Siren\": 2, \"Shatter\": 3, \"Knock\": 4, \"Crying_and_sobbing\": 5, \"Microwave_oven\": 6, \"Vehicle_horn_and_car_horn_and_honking\": 7, \"Doorbell\": 8, \"Walk_and_footsteps\": 9}"
      ],
      "metadata": {
        "id": "6OFsZ5UNeQOw"
      },
      "execution_count": 4,
      "outputs": []
    },
    {
      "cell_type": "markdown",
      "source": [
        "#### Loading Data"
      ],
      "metadata": {
        "id": "FXN7-ndmxIvS"
      }
    },
    {
      "cell_type": "markdown",
      "source": [
        "##### Creating single Dataset"
      ],
      "metadata": {
        "id": "Fg2KXnSolKm8"
      }
    },
    {
      "cell_type": "code",
      "execution_count": 43,
      "metadata": {
        "colab": {
          "base_uri": "https://localhost:8080/",
          "height": 424
        },
        "id": "KOU7FVUD21v7",
        "outputId": "c77a861a-4874-41c7-f93f-65c07bad8bc1"
      },
      "outputs": [
        {
          "output_type": "execute_result",
          "data": {
            "text/plain": [
              "     Unnamed: 0         fname               label  split\n",
              "0             0     02639.npy                Bark  train\n",
              "1             1      1580.npy                Bark  train\n",
              "2             2     24030.npy                Bark  train\n",
              "3             3    316499.npy                Bark  train\n",
              "4             4    413718.npy                Bark  train\n",
              "..          ...           ...                 ...    ...\n",
              "995         995   9956925.npy  Walk_and_footsteps  train\n",
              "996         996  99611454.npy  Walk_and_footsteps  train\n",
              "997         997   9979729.npy  Walk_and_footsteps  train\n",
              "998         998  99818869.npy  Walk_and_footsteps  train\n",
              "999         999    999433.npy  Walk_and_footsteps  train\n",
              "\n",
              "[1000 rows x 4 columns]"
            ],
            "text/html": [
              "\n",
              "  <div id=\"df-d91de5d8-7538-4067-a549-a7b620c152cb\">\n",
              "    <div class=\"colab-df-container\">\n",
              "      <div>\n",
              "<style scoped>\n",
              "    .dataframe tbody tr th:only-of-type {\n",
              "        vertical-align: middle;\n",
              "    }\n",
              "\n",
              "    .dataframe tbody tr th {\n",
              "        vertical-align: top;\n",
              "    }\n",
              "\n",
              "    .dataframe thead th {\n",
              "        text-align: right;\n",
              "    }\n",
              "</style>\n",
              "<table border=\"1\" class=\"dataframe\">\n",
              "  <thead>\n",
              "    <tr style=\"text-align: right;\">\n",
              "      <th></th>\n",
              "      <th>Unnamed: 0</th>\n",
              "      <th>fname</th>\n",
              "      <th>label</th>\n",
              "      <th>split</th>\n",
              "    </tr>\n",
              "  </thead>\n",
              "  <tbody>\n",
              "    <tr>\n",
              "      <th>0</th>\n",
              "      <td>0</td>\n",
              "      <td>02639.npy</td>\n",
              "      <td>Bark</td>\n",
              "      <td>train</td>\n",
              "    </tr>\n",
              "    <tr>\n",
              "      <th>1</th>\n",
              "      <td>1</td>\n",
              "      <td>1580.npy</td>\n",
              "      <td>Bark</td>\n",
              "      <td>train</td>\n",
              "    </tr>\n",
              "    <tr>\n",
              "      <th>2</th>\n",
              "      <td>2</td>\n",
              "      <td>24030.npy</td>\n",
              "      <td>Bark</td>\n",
              "      <td>train</td>\n",
              "    </tr>\n",
              "    <tr>\n",
              "      <th>3</th>\n",
              "      <td>3</td>\n",
              "      <td>316499.npy</td>\n",
              "      <td>Bark</td>\n",
              "      <td>train</td>\n",
              "    </tr>\n",
              "    <tr>\n",
              "      <th>4</th>\n",
              "      <td>4</td>\n",
              "      <td>413718.npy</td>\n",
              "      <td>Bark</td>\n",
              "      <td>train</td>\n",
              "    </tr>\n",
              "    <tr>\n",
              "      <th>...</th>\n",
              "      <td>...</td>\n",
              "      <td>...</td>\n",
              "      <td>...</td>\n",
              "      <td>...</td>\n",
              "    </tr>\n",
              "    <tr>\n",
              "      <th>995</th>\n",
              "      <td>995</td>\n",
              "      <td>9956925.npy</td>\n",
              "      <td>Walk_and_footsteps</td>\n",
              "      <td>train</td>\n",
              "    </tr>\n",
              "    <tr>\n",
              "      <th>996</th>\n",
              "      <td>996</td>\n",
              "      <td>99611454.npy</td>\n",
              "      <td>Walk_and_footsteps</td>\n",
              "      <td>train</td>\n",
              "    </tr>\n",
              "    <tr>\n",
              "      <th>997</th>\n",
              "      <td>997</td>\n",
              "      <td>9979729.npy</td>\n",
              "      <td>Walk_and_footsteps</td>\n",
              "      <td>train</td>\n",
              "    </tr>\n",
              "    <tr>\n",
              "      <th>998</th>\n",
              "      <td>998</td>\n",
              "      <td>99818869.npy</td>\n",
              "      <td>Walk_and_footsteps</td>\n",
              "      <td>train</td>\n",
              "    </tr>\n",
              "    <tr>\n",
              "      <th>999</th>\n",
              "      <td>999</td>\n",
              "      <td>999433.npy</td>\n",
              "      <td>Walk_and_footsteps</td>\n",
              "      <td>train</td>\n",
              "    </tr>\n",
              "  </tbody>\n",
              "</table>\n",
              "<p>1000 rows × 4 columns</p>\n",
              "</div>\n",
              "      <button class=\"colab-df-convert\" onclick=\"convertToInteractive('df-d91de5d8-7538-4067-a549-a7b620c152cb')\"\n",
              "              title=\"Convert this dataframe to an interactive table.\"\n",
              "              style=\"display:none;\">\n",
              "        \n",
              "  <svg xmlns=\"http://www.w3.org/2000/svg\" height=\"24px\"viewBox=\"0 0 24 24\"\n",
              "       width=\"24px\">\n",
              "    <path d=\"M0 0h24v24H0V0z\" fill=\"none\"/>\n",
              "    <path d=\"M18.56 5.44l.94 2.06.94-2.06 2.06-.94-2.06-.94-.94-2.06-.94 2.06-2.06.94zm-11 1L8.5 8.5l.94-2.06 2.06-.94-2.06-.94L8.5 2.5l-.94 2.06-2.06.94zm10 10l.94 2.06.94-2.06 2.06-.94-2.06-.94-.94-2.06-.94 2.06-2.06.94z\"/><path d=\"M17.41 7.96l-1.37-1.37c-.4-.4-.92-.59-1.43-.59-.52 0-1.04.2-1.43.59L10.3 9.45l-7.72 7.72c-.78.78-.78 2.05 0 2.83L4 21.41c.39.39.9.59 1.41.59.51 0 1.02-.2 1.41-.59l7.78-7.78 2.81-2.81c.8-.78.8-2.07 0-2.86zM5.41 20L4 18.59l7.72-7.72 1.47 1.35L5.41 20z\"/>\n",
              "  </svg>\n",
              "      </button>\n",
              "      \n",
              "  <style>\n",
              "    .colab-df-container {\n",
              "      display:flex;\n",
              "      flex-wrap:wrap;\n",
              "      gap: 12px;\n",
              "    }\n",
              "\n",
              "    .colab-df-convert {\n",
              "      background-color: #E8F0FE;\n",
              "      border: none;\n",
              "      border-radius: 50%;\n",
              "      cursor: pointer;\n",
              "      display: none;\n",
              "      fill: #1967D2;\n",
              "      height: 32px;\n",
              "      padding: 0 0 0 0;\n",
              "      width: 32px;\n",
              "    }\n",
              "\n",
              "    .colab-df-convert:hover {\n",
              "      background-color: #E2EBFA;\n",
              "      box-shadow: 0px 1px 2px rgba(60, 64, 67, 0.3), 0px 1px 3px 1px rgba(60, 64, 67, 0.15);\n",
              "      fill: #174EA6;\n",
              "    }\n",
              "\n",
              "    [theme=dark] .colab-df-convert {\n",
              "      background-color: #3B4455;\n",
              "      fill: #D2E3FC;\n",
              "    }\n",
              "\n",
              "    [theme=dark] .colab-df-convert:hover {\n",
              "      background-color: #434B5C;\n",
              "      box-shadow: 0px 1px 3px 1px rgba(0, 0, 0, 0.15);\n",
              "      filter: drop-shadow(0px 1px 2px rgba(0, 0, 0, 0.3));\n",
              "      fill: #FFFFFF;\n",
              "    }\n",
              "  </style>\n",
              "\n",
              "      <script>\n",
              "        const buttonEl =\n",
              "          document.querySelector('#df-d91de5d8-7538-4067-a549-a7b620c152cb button.colab-df-convert');\n",
              "        buttonEl.style.display =\n",
              "          google.colab.kernel.accessAllowed ? 'block' : 'none';\n",
              "\n",
              "        async function convertToInteractive(key) {\n",
              "          const element = document.querySelector('#df-d91de5d8-7538-4067-a549-a7b620c152cb');\n",
              "          const dataTable =\n",
              "            await google.colab.kernel.invokeFunction('convertToInteractive',\n",
              "                                                     [key], {});\n",
              "          if (!dataTable) return;\n",
              "\n",
              "          const docLinkHtml = 'Like what you see? Visit the ' +\n",
              "            '<a target=\"_blank\" href=https://colab.research.google.com/notebooks/data_table.ipynb>data table notebook</a>'\n",
              "            + ' to learn more about interactive tables.';\n",
              "          element.innerHTML = '';\n",
              "          dataTable['output_type'] = 'display_data';\n",
              "          await google.colab.output.renderOutput(dataTable, element);\n",
              "          const docLink = document.createElement('div');\n",
              "          docLink.innerHTML = docLinkHtml;\n",
              "          element.appendChild(docLink);\n",
              "        }\n",
              "      </script>\n",
              "    </div>\n",
              "  </div>\n",
              "  "
            ]
          },
          "metadata": {},
          "execution_count": 43
        }
      ],
      "source": [
        "annot"
      ]
    },
    {
      "cell_type": "code",
      "execution_count": null,
      "metadata": {
        "id": "uqVQ3XCc3P1O"
      },
      "outputs": [],
      "source": [
        "# Loading data in array\n",
        "y = np.zeros([1000, 1])\n",
        "X = np.zeros([1000, 128, 2700])\n",
        "signal_len = []\n",
        "for i in range(len(annot)):\n",
        "  print(i)\n",
        "  y[i] = mapping[annot.iloc[i, 2]]\n",
        "  x = np.load(location + \"train/\" + annot.iloc[i, 1])\n",
        "  signal_len.append(x.shape[2])\n",
        "  X[i, :, 0:x.shape[2]] = x[0, :, :]"
      ]
    },
    {
      "cell_type": "code",
      "source": [
        "# Archiving Data for quicker use later\n",
        "np.savez(location + \"Dataset.npz\", X = X, y = y, signal_len = signal_len)"
      ],
      "metadata": {
        "id": "lZuuI-u9kjOE"
      },
      "execution_count": 50,
      "outputs": []
    },
    {
      "cell_type": "markdown",
      "source": [
        "##### Preparing Data"
      ],
      "metadata": {
        "id": "mejOngDAlGs9"
      }
    },
    {
      "cell_type": "code",
      "source": [
        "# Loading Archived Data\n",
        "l = np.load(location + \"Dataset.npz\")\n",
        "X = l['X']\n",
        "y = l['y']\n",
        "signal_len = l['signal_len']"
      ],
      "metadata": {
        "id": "YUqxoiiVkw18"
      },
      "execution_count": 5,
      "outputs": []
    },
    {
      "cell_type": "code",
      "source": [
        "s = 160 # Plotting a mel spectrogram\n",
        "plt.pcolormesh(X[s])\n",
        "print(list(mapping.keys())[list(mapping.values()).index(y[s])])"
      ],
      "metadata": {
        "colab": {
          "base_uri": "https://localhost:8080/",
          "height": 283
        },
        "id": "4Q_gUl3Wts5q",
        "outputId": "e636f136-1554-43c6-aba3-cf6fc347d62c"
      },
      "execution_count": 6,
      "outputs": [
        {
          "output_type": "stream",
          "name": "stdout",
          "text": [
            "Meow\n"
          ]
        },
        {
          "output_type": "display_data",
          "data": {
            "text/plain": [
              "<Figure size 432x288 with 1 Axes>"
            ],
            "image/png": "[encoded data removed]"
          },
          "metadata": {
            "needs_background": "light"
          }
        }
      ]
    },
    {
      "cell_type": "code",
      "source": [
        "# Splitting into train and validation set\n",
        "from sklearn.utils import shuffle\n",
        "X, y, signal_len = shuffle(X, y, np.array(signal_len))\n",
        "fr = 0.8\n",
        "X_train = X[:fr*1000, :, :]\n",
        "y_train = y[:fr*1000]\n",
        "signal_len_train = signal_len[:fr*1000]\n",
        "X_val = X[fr*1000:, :, :]\n",
        "y_val = y[fr*1000:]\n",
        "signal_len_val = signal_len[fr*1000:]"
      ],
      "metadata": {
        "id": "tRjt16jNLuJl"
      },
      "execution_count": 7,
      "outputs": []
    },
    {
      "cell_type": "code",
      "source": [
        "# For efficient use of RAM\n",
        "del X\n",
        "del y"
      ],
      "metadata": {
        "id": "aWsn_kVk4jv9"
      },
      "execution_count": 8,
      "outputs": []
    },
    {
      "cell_type": "code",
      "source": [
        "X_test = X_val.copy()\n",
        "y_test = y_val.copy()\n",
        "signal_len_test = signal_len_val.copy()"
      ],
      "metadata": {
        "id": "Ttni7Rkkef3Y"
      },
      "execution_count": 9,
      "outputs": []
    },
    {
      "cell_type": "code",
      "execution_count": 10,
      "metadata": {
        "id": "E0imK18aFon6"
      },
      "outputs": [],
      "source": [
        "sample_len = 300  #Defining sample length\n",
        "hop_size = 150"
      ]
    },
    {
      "cell_type": "code",
      "source": [
        "def DuplicatePadding(X, signal_length, sample_length):\n",
        "  # Duplicate pad samples with signal_length less than sample_length\n",
        "  for i in range(len(X)):\n",
        "    dp = signal_length[i]\n",
        "    while dp<sample_length:\n",
        "      X[i, :, dp:dp+signal_length[i]] = X[i, :, :signal_length[i]]\n",
        "      signal_length[i] = sample_length\n",
        "      dp = dp + signal_length[i]\n",
        "  return X, signal_length"
      ],
      "metadata": {
        "id": "G-aVuJLD0lGq"
      },
      "execution_count": 11,
      "outputs": []
    },
    {
      "cell_type": "code",
      "source": [
        "def SlidingWindow(X, y, signal_length, sample_length, hop_size):\n",
        "  ## Slice long samples into multiple samples\n",
        "  data = []\n",
        "  labels = []\n",
        "  for i in range(len(y)):\n",
        "    if signal_length[i] == sample_length:\n",
        "      data.append(X[i, :, :signal_length[i]])\n",
        "      labels.append(y[i])\n",
        "    else:\n",
        "      p = 0\n",
        "      while p + sample_length<=signal_length[i]:\n",
        "        data.append(X[i, :, p:p + sample_length])\n",
        "        labels.append(y[i])\n",
        "        p = p + hop_size\n",
        "      data.append(np.concatenate([X[i, :, p:signal_length[i]], X[i, :, :sample_length - (signal_length[i]-p)]], axis = -1))\n",
        "      labels.append(y[i])\n",
        "      \n",
        "  data = np.array(data)\n",
        "  labels = np.array(labels)\n",
        "  return data, labels"
      ],
      "metadata": {
        "id": "leCd6Nwv3E1Z"
      },
      "execution_count": 12,
      "outputs": []
    },
    {
      "cell_type": "code",
      "source": [
        "X_train, signal_len_train = DuplicatePadding(X_train, signal_len_train, sample_len)\n",
        "X_val, signal_len_val = DuplicatePadding(X_val, signal_len_val, sample_len)"
      ],
      "metadata": {
        "id": "_x6XFB16M1PQ"
      },
      "execution_count": 13,
      "outputs": []
    },
    {
      "cell_type": "code",
      "source": [
        "X_test, signal_len_test = DuplicatePadding(X_test, signal_len_test, sample_len)"
      ],
      "metadata": {
        "id": "vWlCRAo_ex0A"
      },
      "execution_count": 14,
      "outputs": []
    },
    {
      "cell_type": "code",
      "source": [
        "X_train, y_train = SlidingWindow(X_train, y_train,signal_len_train, sample_len, hop_size)\n",
        "X_val, y_val = SlidingWindow(X_val, y_val, signal_len_val, sample_len, hop_size)"
      ],
      "metadata": {
        "id": "1KBv5Y2oOk1Y"
      },
      "execution_count": 15,
      "outputs": []
    },
    {
      "cell_type": "code",
      "source": [
        "X_test_list = []\n",
        "for x, y in zip(X_test, y_test):\n",
        "  x, _ = SlidingWindow(np.expand_dims(x, axis = 0), list(y), signal_len_test, sample_len, hop_size)\n",
        "  del _\n",
        "  X_test_list.append(x)"
      ],
      "metadata": {
        "id": "UNEjyb3cfCoQ"
      },
      "execution_count": 16,
      "outputs": []
    },
    {
      "cell_type": "code",
      "source": [
        "print(X_train.shape)\n",
        "print(X_val.shape)\n",
        "print(y_train.shape)\n",
        "print(y_val.shape)"
      ],
      "metadata": {
        "colab": {
          "base_uri": "https://localhost:8080/"
        },
        "id": "DcwX8Lxswel5",
        "outputId": "e3c8bd42-7aba-4450-88d9-53ebc2b04203"
      },
      "execution_count": 18,
      "outputs": [
        {
          "output_type": "stream",
          "name": "stdout",
          "text": [
            "(2928, 128, 300)\n",
            "(783, 128, 300)\n",
            "(2928, 1)\n",
            "(783, 1)\n"
          ]
        }
      ]
    },
    {
      "cell_type": "code",
      "execution_count": 19,
      "metadata": {
        "id": "CIUsRQuHG_12"
      },
      "outputs": [],
      "source": [
        "# np.savez(location + \"main.npz\", X_train = X_train, X_val = X_val, y_train = y_train, y_val = y_val)"
      ]
    },
    {
      "cell_type": "markdown",
      "source": [
        "#### ML"
      ],
      "metadata": {
        "id": "B3hCtfTVEYOJ"
      }
    },
    {
      "cell_type": "code",
      "source": [
        "# l = np.load(location + \"main.npz\")\n",
        "# X_train = l['X_train']\n",
        "# X_val = l['X_val']\n",
        "# y_train = l['y_train']\n",
        "# y_val = l['y_val']\n",
        "# sample_len = X_train.shape[-1]\n",
        "# print(X_train.shape)\n",
        "# print(X_val.shape)\n",
        "# print(y_train.shape)\n",
        "# print(y_val.shape)"
      ],
      "metadata": {
        "id": "77Li64q6oCzH"
      },
      "execution_count": 20,
      "outputs": []
    },
    {
      "cell_type": "code",
      "source": [
        "# One hot encoding\n",
        "num_classes = 10\n",
        "y_train = tf.keras.utils.to_categorical(y_train, num_classes)\n",
        "y_val = tf.keras.utils.to_categorical(y_val, num_classes)\n",
        "y_test = tf.keras.utils.to_categorical(y_test, num_classes)"
      ],
      "metadata": {
        "id": "Vhp58bNosFfG"
      },
      "execution_count": 21,
      "outputs": []
    },
    {
      "cell_type": "code",
      "source": [
        "# Shuffling\n",
        "from sklearn.utils import shuffle\n",
        "X_train, y_train = shuffle(X_train, y_train, random_state = 42)\n",
        "X_val, y_val = shuffle(X_val, y_val, random_state = 42)\n",
        "X_test_list, y_test = shuffle(X_test_list, y_test, random_state = 42)"
      ],
      "metadata": {
        "id": "UVzZNm6Qszk4"
      },
      "execution_count": 22,
      "outputs": []
    },
    {
      "cell_type": "code",
      "source": [
        "# Normalizing\n",
        "# X_train = tf.keras.utils.normalize(X_train)\n",
        "# X_val = tf.keras.utils.normalize(X_val)\n",
        "# for x in X_test_list:\n",
        "#   x = tf.keras.utils.normalize(x)"
      ],
      "metadata": {
        "id": "eGxsA6Idtmz4"
      },
      "execution_count": 23,
      "outputs": []
    },
    {
      "cell_type": "code",
      "source": [
        "# Expanding dimention so as to add channel dimension\n",
        "X_train = np.expand_dims(X_train, axis = 3)\n",
        "X_val = np.expand_dims(X_val, axis = 3)"
      ],
      "metadata": {
        "id": "MriFAwnNEdLO"
      },
      "execution_count": 24,
      "outputs": []
    },
    {
      "cell_type": "code",
      "source": [
        "inp_shape = (128, sample_len, 1)\n",
        "ip = tf.keras.Input(shape = inp_shape)\n",
        "\n",
        "conv1 = layers.Conv2D(32, (5, 5), strides = (1, 1), padding = 'same')(ip)\n",
        "pool1 = layers.MaxPool2D(pool_size = (2, 2))(conv1)\n",
        "conv2 = layers.Conv2D(16, (3, 3), strides = (1, 1), padding = 'same')(pool1)\n",
        "pool2 = layers.MaxPool2D(pool_size = (2, 2))(conv2)\n",
        "conv3 = layers.Conv2D(8, (3, 3), strides = (1, 1), padding = 'same')(pool2)\n",
        "pool3 = layers.MaxPool2D(pool_size = (2, 2))(conv3)\n",
        "flatten = layers.Flatten()(pool3)\n",
        "dense1 = layers.Dense(32, activation='relu')(flatten)\n",
        "drop1 = tf.keras.layers.Dropout(.2)(dense1)\n",
        "dense2 = layers.Dense(32, activation='relu')(drop1)\n",
        "drop2 = tf.keras.layers.Dropout(.2)(dense2)\n",
        "dense3 = layers.Dense(16, activation='relu')(drop2)\n",
        "\n",
        "out = tf.keras.layers.Dense(num_classes, activation = 'softmax')(dense3)\n",
        "\n",
        "cnn = tf.keras.Model(inputs = ip, outputs = out)\n",
        "cnn.summary()"
      ],
      "metadata": {
        "colab": {
          "base_uri": "https://localhost:8080/"
        },
        "id": "cKTnsHlBzHGP",
        "outputId": "1454cfc9-c5d2-481a-d6d8-458fc1778db4"
      },
      "execution_count": 30,
      "outputs": [
        {
          "output_type": "stream",
          "name": "stdout",
          "text": [
            "Model: \"model_2\"\n",
            "_________________________________________________________________\n",
            " Layer (type)                Output Shape              Param #   \n",
            "=================================================================\n",
            " input_3 (InputLayer)        [(None, 128, 300, 1)]     0         \n",
            "                                                                 \n",
            " conv2d_8 (Conv2D)           (None, 128, 300, 32)      832       \n",
            "                                                                 \n",
            " max_pooling2d_3 (MaxPooling  (None, 64, 150, 32)      0         \n",
            " 2D)                                                             \n",
            "                                                                 \n",
            " conv2d_9 (Conv2D)           (None, 64, 150, 16)       4624      \n",
            "                                                                 \n",
            " max_pooling2d_4 (MaxPooling  (None, 32, 75, 16)       0         \n",
            " 2D)                                                             \n",
            "                                                                 \n",
            " conv2d_10 (Conv2D)          (None, 32, 75, 8)         1160      \n",
            "                                                                 \n",
            " max_pooling2d_5 (MaxPooling  (None, 16, 37, 8)        0         \n",
            " 2D)                                                             \n",
            "                                                                 \n",
            " flatten_2 (Flatten)         (None, 4736)              0         \n",
            "                                                                 \n",
            " dense_8 (Dense)             (None, 32)                151584    \n",
            "                                                                 \n",
            " dropout_4 (Dropout)         (None, 32)                0         \n",
            "                                                                 \n",
            " dense_9 (Dense)             (None, 32)                1056      \n",
            "                                                                 \n",
            " dropout_5 (Dropout)         (None, 32)                0         \n",
            "                                                                 \n",
            " dense_10 (Dense)            (None, 16)                528       \n",
            "                                                                 \n",
            " dense_11 (Dense)            (None, 10)                170       \n",
            "                                                                 \n",
            "=================================================================\n",
            "Total params: 159,954\n",
            "Trainable params: 159,954\n",
            "Non-trainable params: 0\n",
            "_________________________________________________________________\n"
          ]
        }
      ]
    },
    {
      "cell_type": "code",
      "source": [
        "opt = tf.keras.optimizers.Adam(learning_rate = 0.001)\n",
        "cnn.compile(loss = 'categorical_crossentropy', optimizer = opt, metrics = ['acc'])\n",
        "callbacks = [tf.keras.callbacks.EarlyStopping(\n",
        "    monitor='val_acc',\n",
        "    min_delta=0.01,\n",
        "    patience=60,\n",
        "    verbose=0,\n",
        "    mode='auto',\n",
        "    baseline=None,\n",
        "    restore_best_weights=True\n",
        ")]\n",
        "history = cnn.fit(X_train, y_train, validation_data = (X_val, y_val), epochs = 1000, batch_size = 100, callbacks = callbacks)"
      ],
      "metadata": {
        "id": "HGsWnt3oE-z8"
      },
      "execution_count": null,
      "outputs": []
    },
    {
      "cell_type": "code",
      "source": [
        "cnn.save('cnn1')"
      ],
      "metadata": {
        "id": "rSgtwzgDGMJc"
      },
      "execution_count": 35,
      "outputs": []
    },
    {
      "cell_type": "code",
      "source": [
        "#Plotting model history\n",
        "plt.plot(history.history['acc'])\n",
        "plt.plot(history.history['val_acc'])\n",
        "\n",
        "plt.legend(['Training Accuracy', 'Validation Accuracy'])\n",
        "plt.title('Accuracy History')\n",
        "plt.ylabel('Value')\n",
        "plt.xlabel('epochs')\n",
        "plt.show()\n",
        "\n",
        "#Plotting model history\n",
        "plt.plot(history.history['loss'])\n",
        "plt.plot(history.history['val_loss'])\n",
        "plt.legend(['Training Loss', 'Validation Loss'])\n",
        "plt.title('Loss History')\n",
        "plt.ylabel('Value')\n",
        "plt.xlabel('epochs')\n",
        "plt.show()\n",
        "\n",
        "print(\"Initial Training accuracy: \", history.history['acc'][0])\n",
        "print(\"Best Training accuracy: \", np.max(history.history['acc']))\n",
        "print(\"Initial Training loss: \", history.history['loss'][0])\n",
        "print(\"Best Training loss: \", history.history['loss'][np.argmax(history.history['acc'])])\n",
        "print(\"Initial Validation accuracy: \", history.history['val_acc'][0])\n",
        "print(\"Best Validation accuracy: \", np.max(history.history['val_acc']))\n",
        "print(\"Initial Validation loss: \", history.history['val_loss'][0])\n",
        "print(\"Best Validation loss: \", history.history['val_loss'][np.argmax(history.history['val_acc'])])"
      ],
      "metadata": {
        "colab": {
          "base_uri": "https://localhost:8080/",
          "height": 718
        },
        "id": "yZv1dMiHRPbX",
        "outputId": "b4ef17c5-ae24-4212-ac9b-ddffec606962"
      },
      "execution_count": 32,
      "outputs": [
        {
          "output_type": "display_data",
          "data": {
            "text/plain": [
              "<Figure size 432x288 with 1 Axes>"
            ],
            "image/png": "[encoded data removed]"
          },
          "metadata": {
            "needs_background": "light"
          }
        },
        {
          "output_type": "display_data",
          "data": {
            "text/plain": [
              "<Figure size 432x288 with 1 Axes>"
            ],
            "image/png": "[encoded data removed]"
          },
          "metadata": {
            "needs_background": "light"
          }
        },
        {
          "output_type": "stream",
          "name": "stdout",
          "text": [
            "Initial Training accuracy:  0.1601775884628296\n",
            "Best Training accuracy:  0.9788251519203186\n",
            "Initial Training loss:  2.235639810562134\n",
            "Best Training loss:  0.08219312131404877\n",
            "Initial Validation accuracy:  0.2120051085948944\n",
            "Best Validation accuracy:  0.860791802406311\n",
            "Initial Validation loss:  2.104307174682617\n",
            "Best Validation loss:  0.8769492506980896\n"
          ]
        }
      ]
    },
    {
      "cell_type": "code",
      "source": [
        "predicted = cnn.predict(X_val)\n",
        "y_pred = np.argmax(predicted, axis = 1)\n",
        "y_pred = tf.keras.utils.to_categorical(y_pred, num_classes)\n",
        "train_acuracy = history.history['acc'][-1]\n",
        "val_accuracy = accuracy_score(y_val, y_pred)\n",
        "f1score = f1_score(y_val, y_pred, average = 'weighted')\n",
        "cm = confusion_matrix(np.argmax(y_val, axis = 1), np.argmax(y_pred, axis = 1))\n",
        "print(train_acuracy)\n",
        "print(val_accuracy)\n",
        "print(f1score)\n",
        "print(cm)"
      ],
      "metadata": {
        "colab": {
          "base_uri": "https://localhost:8080/"
        },
        "id": "QBFmaW9YGd_X",
        "outputId": "3ad1579e-9458-4298-abec-69cb69795e2f"
      },
      "execution_count": 33,
      "outputs": [
        {
          "output_type": "stream",
          "name": "stdout",
          "text": [
            "0.9730191230773926\n",
            "0.859514687100894\n",
            "0.856675552465864\n",
            "[[ 42   7   1   1   0   6   1   3   1   1]\n",
            " [  0  40   3   1   1   6   2   7   1   2]\n",
            " [  0   0 140   0   0   0   0   1   0   0]\n",
            " [  0   3   0  30   2   0   2   5   1   0]\n",
            " [  0   0   0   0  40   1   2   0   0   6]\n",
            " [  0   2   0   0   0  90   0   2   1   0]\n",
            " [  0   0   0   0   2   0  42   0   0   0]\n",
            " [  0   0   0   1   0   1   0  66   4   0]\n",
            " [  6   2   7   4   0   0   0   0 113   0]\n",
            " [  1   0   0   4   4   1   1   0   0  70]]\n"
          ]
        }
      ]
    },
    {
      "cell_type": "code",
      "source": [
        "pred_list = []\n",
        "for x in X_test_list:\n",
        "  pred = cnn.predict(x)\n",
        "  pred_list.append(np.mean(pred, axis = 0))\n",
        "predicted = np.array(pred_list)\n",
        "y_pred = np.argmax(predicted, axis = 1)\n",
        "y_pred = tf.keras.utils.to_categorical(y_pred, num_classes)\n",
        "train_acuracy = history.history['acc'][-1]\n",
        "test_accuracy = accuracy_score(y_test, y_pred)\n",
        "f1score = f1_score(y_test, y_pred, average = 'weighted')\n",
        "cm = confusion_matrix(np.argmax(y_test, axis = 1), np.argmax(y_pred, axis = 1))\n",
        "print(train_acuracy)\n",
        "print(test_accuracy)\n",
        "print(f1score)\n",
        "print(cm)"
      ],
      "metadata": {
        "colab": {
          "base_uri": "https://localhost:8080/"
        },
        "id": "D8m3iTeWhwAk",
        "outputId": "061409d5-f742-4fc3-cbb4-807f6b6aaea0"
      },
      "execution_count": 34,
      "outputs": [
        {
          "output_type": "stream",
          "name": "stdout",
          "text": [
            "0.9730191230773926\n",
            "0.845\n",
            "0.84485464958005\n",
            "[[15  1  1  1  0  2  1  0  0  1]\n",
            " [ 0 15  0  0  0  3  0  1  0  1]\n",
            " [ 0  0 22  0  0  0  0  0  0  0]\n",
            " [ 0  0  0 14  0  0  1  1  1  0]\n",
            " [ 0  0  0  0 19  0  2  0  0  4]\n",
            " [ 0  0  0  0  0 15  0  0  0  0]\n",
            " [ 0  0  0  0  2  0 14  0  0  0]\n",
            " [ 0  0  0  0  0  0  0 19  0  0]\n",
            " [ 0  0  0  3  0  0  0  0 22  0]\n",
            " [ 1  0  0  2  0  1  1  0  0 14]]\n"
          ]
        }
      ]
    },
    {
      "cell_type": "code",
      "source": [
        "inp_shape = (128, sample_len, 1)\n",
        "ip = tf.keras.Input(shape = inp_shape)\n",
        "\n",
        "flatten = layers.Flatten()(ip)\n",
        "dense1 = layers.Dense(128, activation='relu')(flatten)\n",
        "drop1 = tf.keras.layers.Dropout(.1)(dense1)\n",
        "dense2 = layers.Dense(64, activation='relu')(drop1)\n",
        "drop2 = tf.keras.layers.Dropout(.1)(dense2)\n",
        "dense3 = layers.Dense(64, activation='relu')(drop2)\n",
        "drop3 = tf.keras.layers.Dropout(.1)(dense3)\n",
        "dense4 = layers.Dense(32, activation='relu')(drop3)\n",
        "\n",
        "out = tf.keras.layers.Dense(num_classes, activation = 'softmax')(dense4)\n",
        "\n",
        "denseModel = tf.keras.Model(inputs = ip, outputs = out)\n",
        "print(denseModel.summary())\n",
        "\n",
        "opt = tf.keras.optimizers.Adam(learning_rate = 0.001)\n",
        "denseModel.compile(loss = 'categorical_crossentropy', optimizer = opt, metrics = ['acc'])\n",
        "callbacks = [tf.keras.callbacks.EarlyStopping(\n",
        "    monitor='val_acc',\n",
        "    min_delta=0.01,\n",
        "    patience=60,\n",
        "    verbose=0,\n",
        "    mode='auto',\n",
        "    baseline=None,\n",
        "    restore_best_weights=True\n",
        ")]\n",
        "history = denseModel.fit(X_train, y_train, validation_data = (X_val, y_val), epochs = 1000, batch_size = 100, callbacks = callbacks)"
      ],
      "metadata": {
        "id": "jHt6A7ekJmF5"
      },
      "execution_count": null,
      "outputs": []
    },
    {
      "cell_type": "code",
      "source": [
        "inp_shape = (128, sample_len, 1)\n",
        "ip = tf.keras.Input(shape = inp_shape)\n",
        "\n",
        "conv1 = layers.Conv2D(16, (6, 2), strides = (1, 1), padding = 'same')(ip)\n",
        "conv2 = layers.Conv2D(16, (6, 2), strides = (1, 1), padding = 'same')(conv1)\n",
        "conv3 = layers.Conv2D(24, (5, 1), strides = (1, 1), padding = 'same')(conv2)\n",
        "conv4 = layers.Conv2D(24, (5, 1), strides = (1, 1), padding = 'same')(conv3)\n",
        "conv5 = layers.Conv2D(36, (4, 1), strides = (1, 1), padding = 'same')(conv4)\n",
        "flatten = layers.Flatten()(conv5)\n",
        "dense1 = layers.Dense(128, activation='relu')(flatten)\n",
        "drop1 = tf.keras.layers.Dropout(.2)(dense1)\n",
        "dense2 = layers.Dense(128, activation='relu')(drop1)\n",
        "drop2 = tf.keras.layers.Dropout(.2)(dense2)\n",
        "dense3 = layers.Dense(64, activation='relu')(drop2)\n",
        "\n",
        "out = tf.keras.layers.Dense(num_classes, activation = 'softmax')(dense3)\n",
        "\n",
        "cnn2 = tf.keras.Model(inputs = ip, outputs = out)\n",
        "print(cnn2.summary())\n",
        "\n",
        "opt = tf.keras.optimizers.Adam(learning_rate = 0.001)\n",
        "cnn2.compile(loss = 'categorical_crossentropy', optimizer = opt, metrics = ['acc'])\n",
        "callbacks = [tf.keras.callbacks.EarlyStopping(\n",
        "    monitor='val_acc',\n",
        "    min_delta=0.01,\n",
        "    patience=60,\n",
        "    verbose=0,\n",
        "    mode='auto',\n",
        "    baseline=None,\n",
        "    restore_best_weights=True\n",
        ")]\n",
        "history = cnn2.fit(X_train, y_train, validation_data = (X_val, y_val), epochs = 1000, batch_size = 100, callbacks = callbacks)"
      ],
      "metadata": {
        "id": "hlG2uyzLy1DB"
      },
      "execution_count": null,
      "outputs": []
    },
    {
      "cell_type": "code",
      "source": [
        "#Plotting model history\n",
        "plt.plot(history.history['acc'])\n",
        "plt.plot(history.history['val_acc'])\n",
        "\n",
        "plt.legend(['Training Accuracy', 'Validation Accuracy'])\n",
        "plt.title('Accuracy History')\n",
        "plt.ylabel('Value')\n",
        "plt.xlabel('epochs')\n",
        "plt.show()\n",
        "\n",
        "#Plotting model history\n",
        "plt.plot(history.history['loss'])\n",
        "plt.plot(history.history['val_loss'])\n",
        "plt.legend(['Training Loss', 'Validation Loss'])\n",
        "plt.title('Loss History')\n",
        "plt.ylabel('Value')\n",
        "plt.xlabel('epochs')\n",
        "plt.show()\n",
        "\n",
        "print(\"Initial Training accuracy: \", history.history['acc'][0])\n",
        "print(\"Best Training accuracy: \", np.max(history.history['acc']))\n",
        "print(\"Initial Training loss: \", history.history['loss'][0])\n",
        "print(\"Best Training loss: \", history.history['loss'][np.argmax(history.history['acc'])])\n",
        "print(\"Initial Validation accuracy: \", history.history['val_acc'][0])\n",
        "print(\"Best Validation accuracy: \", np.max(history.history['val_acc']))\n",
        "print(\"Initial Validation loss: \", history.history['val_loss'][0])\n",
        "print(\"Best Validation loss: \", history.history['val_loss'][np.argmax(history.history['val_acc'])])"
      ],
      "metadata": {
        "colab": {
          "base_uri": "https://localhost:8080/",
          "height": 718
        },
        "id": "wWGeauHtRkkJ",
        "outputId": "7f9f3054-43c8-4695-d764-8295162cdcf6"
      },
      "execution_count": 27,
      "outputs": [
        {
          "output_type": "display_data",
          "data": {
            "text/plain": [
              "<Figure size 432x288 with 1 Axes>"
            ],
            "image/png": "[encoded data removed]"
          },
          "metadata": {
            "needs_background": "light"
          }
        },
        {
          "output_type": "display_data",
          "data": {
            "text/plain": [
              "<Figure size 432x288 with 1 Axes>"
            ],
            "image/png": "[encoded data removed]"
          },
          "metadata": {
            "needs_background": "light"
          }
        },
        {
          "output_type": "stream",
          "name": "stdout",
          "text": [
            "Initial Training accuracy:  0.17315573990345\n",
            "Best Training accuracy:  0.6400273442268372\n",
            "Initial Training loss:  54.31969451904297\n",
            "Best Training loss:  1.0310484170913696\n",
            "Initial Validation accuracy:  0.36526182293891907\n",
            "Best Validation accuracy:  0.5810983180999756\n",
            "Initial Validation loss:  2.2342770099639893\n",
            "Best Validation loss:  1.207783579826355\n"
          ]
        }
      ]
    },
    {
      "cell_type": "code",
      "source": [],
      "metadata": {
        "id": "l2n0FHHPe6Zs"
      },
      "execution_count": null,
      "outputs": []
    }
  ]
}